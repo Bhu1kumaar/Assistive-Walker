{
 "cells": [
  {
   "cell_type": "code",
   "execution_count": 1,
   "metadata": {},
   "outputs": [],
   "source": [
    "import pandas as pd\n",
    "import numpy as np\n",
    "import matplotlib.pyplot as plt\n",
    "import m2cgen as m2c\n",
    "from sklearn.model_selection import train_test_split"
   ]
  },
  {
   "cell_type": "code",
   "execution_count": 4,
   "metadata": {},
   "outputs": [
    {
     "data": {
      "text/html": [
       "<div>\n",
       "<style scoped>\n",
       "    .dataframe tbody tr th:only-of-type {\n",
       "        vertical-align: middle;\n",
       "    }\n",
       "\n",
       "    .dataframe tbody tr th {\n",
       "        vertical-align: top;\n",
       "    }\n",
       "\n",
       "    .dataframe thead th {\n",
       "        text-align: right;\n",
       "    }\n",
       "</style>\n",
       "<table border=\"1\" class=\"dataframe\">\n",
       "  <thead>\n",
       "    <tr style=\"text-align: right;\">\n",
       "      <th></th>\n",
       "      <th>0</th>\n",
       "      <th>1</th>\n",
       "      <th>2</th>\n",
       "    </tr>\n",
       "  </thead>\n",
       "  <tbody>\n",
       "    <tr>\n",
       "      <th>0</th>\n",
       "      <td>-0.63024</td>\n",
       "      <td>-0.14404</td>\n",
       "      <td>-0.03102</td>\n",
       "    </tr>\n",
       "    <tr>\n",
       "      <th>1</th>\n",
       "      <td>-0.64724</td>\n",
       "      <td>-0.14404</td>\n",
       "      <td>-0.03102</td>\n",
       "    </tr>\n",
       "    <tr>\n",
       "      <th>2</th>\n",
       "      <td>-0.64124</td>\n",
       "      <td>-0.14704</td>\n",
       "      <td>-0.03102</td>\n",
       "    </tr>\n",
       "    <tr>\n",
       "      <th>3</th>\n",
       "      <td>-0.64024</td>\n",
       "      <td>-0.14804</td>\n",
       "      <td>-0.03202</td>\n",
       "    </tr>\n",
       "    <tr>\n",
       "      <th>4</th>\n",
       "      <td>-0.64324</td>\n",
       "      <td>-0.15104</td>\n",
       "      <td>-0.03202</td>\n",
       "    </tr>\n",
       "    <tr>\n",
       "      <th>...</th>\n",
       "      <td>...</td>\n",
       "      <td>...</td>\n",
       "      <td>...</td>\n",
       "    </tr>\n",
       "    <tr>\n",
       "      <th>127870</th>\n",
       "      <td>-0.57778</td>\n",
       "      <td>-0.51798</td>\n",
       "      <td>-0.00540</td>\n",
       "    </tr>\n",
       "    <tr>\n",
       "      <th>127871</th>\n",
       "      <td>-0.57778</td>\n",
       "      <td>-0.51798</td>\n",
       "      <td>-0.00540</td>\n",
       "    </tr>\n",
       "    <tr>\n",
       "      <th>127872</th>\n",
       "      <td>-0.57778</td>\n",
       "      <td>-0.51798</td>\n",
       "      <td>-0.00540</td>\n",
       "    </tr>\n",
       "    <tr>\n",
       "      <th>127873</th>\n",
       "      <td>-0.57778</td>\n",
       "      <td>-0.51798</td>\n",
       "      <td>-0.00540</td>\n",
       "    </tr>\n",
       "    <tr>\n",
       "      <th>127874</th>\n",
       "      <td>-0.57778</td>\n",
       "      <td>-0.51798</td>\n",
       "      <td>-0.00540</td>\n",
       "    </tr>\n",
       "  </tbody>\n",
       "</table>\n",
       "<p>127875 rows × 3 columns</p>\n",
       "</div>"
      ],
      "text/plain": [
       "              0        1        2\n",
       "0      -0.63024 -0.14404 -0.03102\n",
       "1      -0.64724 -0.14404 -0.03102\n",
       "2      -0.64124 -0.14704 -0.03102\n",
       "3      -0.64024 -0.14804 -0.03202\n",
       "4      -0.64324 -0.15104 -0.03202\n",
       "...         ...      ...      ...\n",
       "127870 -0.57778 -0.51798 -0.00540\n",
       "127871 -0.57778 -0.51798 -0.00540\n",
       "127872 -0.57778 -0.51798 -0.00540\n",
       "127873 -0.57778 -0.51798 -0.00540\n",
       "127874 -0.57778 -0.51798 -0.00540\n",
       "\n",
       "[127875 rows x 3 columns]"
      ]
     },
     "execution_count": 4,
     "metadata": {},
     "output_type": "execute_result"
    }
   ],
   "source": [
    "data1=pd.read_csv(\"CSV_files/new_mvgavg+286.csv\",header=None)\n",
    "data2=pd.read_csv(\"CSV_files/new_mvgavg+136.csv\",header=None)\n",
    "data3=pd.read_csv(\"CSV_files/new_mvgavg+62.csv\",header=None)\n",
    "data4=pd.read_csv(\"CSV_files/new_mvgavg-62.csv\",header=None)\n",
    "data5=pd.read_csv(\"CSV_files/new_mvgavg-31.csv\",header=None)\n",
    "data6=pd.read_csv(\"CSV_files/new_mvgavg-24.csv\",header=None)\n",
    "data7=pd.read_csv(\"CSV_files/new_mvgavg-286.csv\",header=None)\n",
    "data8=pd.read_csv(\"CSV_files/new_mvgavg-136.csv\",header=None)\n",
    "\n",
    "\"\"\"columns1=[]\n",
    "for i in range(750):\n",
    "    if (i+2)%6==0 or (i+1)%6==0:\n",
    "        columns1.append(i)\n",
    "#print(columns)\"\"\"\n",
    "\n",
    "ones=np.ones((484,))\n",
    "zeroes=np.zeros((539,))\n",
    "binary=np.concatenate([ones,zeroes])\n",
    "pos=pd.concat([data1,data2,data3])\n",
    "neg=pd.concat([data4,data5,data6,data7,data8])\n",
    "step=pd.concat([pos,neg], ignore_index=True)\n",
    "X=np.array(step)\n",
    "X=X.reshape(1023,375)\n",
    "y=binary\n",
    "\n",
    "df=pd.DataFrame(step)\n",
    "df"
   ]
  },
  {
   "cell_type": "code",
   "execution_count": 5,
   "metadata": {},
   "outputs": [
    {
     "data": {
      "text/plain": [
       "array([[-0.63024, -0.14404, -0.03102, ..., -0.64624, -0.18604, -0.03002],\n",
       "       [-0.64924, -0.15404, -0.02902, ..., -0.65924, -0.16004, -0.03002],\n",
       "       [-0.65524, -0.15304, -0.02902, ..., -0.65224, -0.16804, -0.02902],\n",
       "       ...,\n",
       "       [-0.59678, -0.45798, -0.0064 , ..., -0.58978, -0.52898, -0.0064 ],\n",
       "       [-0.60678, -0.51898, -0.0064 , ..., -0.90778,  0.01902, -0.0024 ],\n",
       "       [-0.61278, -0.49598, -0.0024 , ..., -0.57778, -0.51798, -0.0054 ]])"
      ]
     },
     "execution_count": 5,
     "metadata": {},
     "output_type": "execute_result"
    }
   ],
   "source": [
    "from sklearn.model_selection import train_test_split\n",
    "from sklearn.preprocessing import MinMaxScaler\n",
    "from sklearn.preprocessing import MaxAbsScaler\n",
    "\n",
    "#X1=pd.DataFrame(StandardScaler().fit_transform(X))\n",
    "X1=pd.DataFrame(MinMaxScaler().fit_transform(X))\n",
    "#std=np.array(X1.std().sort_values())\n",
    "X"
   ]
  },
  {
   "cell_type": "code",
   "execution_count": null,
   "metadata": {},
   "outputs": [
    {
     "data": {
      "text/plain": [
       "302"
      ]
     },
     "execution_count": 4,
     "metadata": {},
     "output_type": "execute_result"
    }
   ],
   "source": [
    "from sklearn.decomposition import PCA\n",
    "pca=PCA(0.95)\n",
    "X_pca=pca.fit_transform(X1)\n",
    "len(X1)"
   ]
  },
  {
   "cell_type": "code",
   "execution_count": 22,
   "metadata": {},
   "outputs": [
    {
     "name": "stderr",
     "output_type": "stream",
     "text": [
      "C:\\Users\\AISHWARYA\\AppData\\Roaming\\Python\\Python311\\site-packages\\tpot\\builtins\\__init__.py:36: UserWarning: Warning: optional dependency `torch` is not available. - skipping import of NN models.\n",
      "  warnings.warn(\"Warning: optional dependency `torch` is not available. - skipping import of NN models.\")\n",
      "Version 0.12.1 of tpot is outdated. Version 0.12.2 was released 7 days ago.\n"
     ]
    },
    {
     "name": "stdout",
     "output_type": "stream",
     "text": [
      "                                                                              \n",
      "Generation 1 - Current best internal CV score: 0.8985560377076164\n",
      "                                                                              \n",
      "Generation 2 - Current best internal CV score: 0.8985560377076164\n",
      "                                                                              \n",
      "Best pipeline: DecisionTreeClassifier(BernoulliNB(input_matrix, alpha=0.001, fit_prior=True), criterion=entropy, max_depth=7, min_samples_leaf=3, min_samples_split=5)\n"
     ]
    },
    {
     "data": {
      "text/html": [
       "<style>#sk-container-id-1 {color: black;}#sk-container-id-1 pre{padding: 0;}#sk-container-id-1 div.sk-toggleable {background-color: white;}#sk-container-id-1 label.sk-toggleable__label {cursor: pointer;display: block;width: 100%;margin-bottom: 0;padding: 0.3em;box-sizing: border-box;text-align: center;}#sk-container-id-1 label.sk-toggleable__label-arrow:before {content: \"▸\";float: left;margin-right: 0.25em;color: #696969;}#sk-container-id-1 label.sk-toggleable__label-arrow:hover:before {color: black;}#sk-container-id-1 div.sk-estimator:hover label.sk-toggleable__label-arrow:before {color: black;}#sk-container-id-1 div.sk-toggleable__content {max-height: 0;max-width: 0;overflow: hidden;text-align: left;background-color: #f0f8ff;}#sk-container-id-1 div.sk-toggleable__content pre {margin: 0.2em;color: black;border-radius: 0.25em;background-color: #f0f8ff;}#sk-container-id-1 input.sk-toggleable__control:checked~div.sk-toggleable__content {max-height: 200px;max-width: 100%;overflow: auto;}#sk-container-id-1 input.sk-toggleable__control:checked~label.sk-toggleable__label-arrow:before {content: \"▾\";}#sk-container-id-1 div.sk-estimator input.sk-toggleable__control:checked~label.sk-toggleable__label {background-color: #d4ebff;}#sk-container-id-1 div.sk-label input.sk-toggleable__control:checked~label.sk-toggleable__label {background-color: #d4ebff;}#sk-container-id-1 input.sk-hidden--visually {border: 0;clip: rect(1px 1px 1px 1px);clip: rect(1px, 1px, 1px, 1px);height: 1px;margin: -1px;overflow: hidden;padding: 0;position: absolute;width: 1px;}#sk-container-id-1 div.sk-estimator {font-family: monospace;background-color: #f0f8ff;border: 1px dotted black;border-radius: 0.25em;box-sizing: border-box;margin-bottom: 0.5em;}#sk-container-id-1 div.sk-estimator:hover {background-color: #d4ebff;}#sk-container-id-1 div.sk-parallel-item::after {content: \"\";width: 100%;border-bottom: 1px solid gray;flex-grow: 1;}#sk-container-id-1 div.sk-label:hover label.sk-toggleable__label {background-color: #d4ebff;}#sk-container-id-1 div.sk-serial::before {content: \"\";position: absolute;border-left: 1px solid gray;box-sizing: border-box;top: 0;bottom: 0;left: 50%;z-index: 0;}#sk-container-id-1 div.sk-serial {display: flex;flex-direction: column;align-items: center;background-color: white;padding-right: 0.2em;padding-left: 0.2em;position: relative;}#sk-container-id-1 div.sk-item {position: relative;z-index: 1;}#sk-container-id-1 div.sk-parallel {display: flex;align-items: stretch;justify-content: center;background-color: white;position: relative;}#sk-container-id-1 div.sk-item::before, #sk-container-id-1 div.sk-parallel-item::before {content: \"\";position: absolute;border-left: 1px solid gray;box-sizing: border-box;top: 0;bottom: 0;left: 50%;z-index: -1;}#sk-container-id-1 div.sk-parallel-item {display: flex;flex-direction: column;z-index: 1;position: relative;background-color: white;}#sk-container-id-1 div.sk-parallel-item:first-child::after {align-self: flex-end;width: 50%;}#sk-container-id-1 div.sk-parallel-item:last-child::after {align-self: flex-start;width: 50%;}#sk-container-id-1 div.sk-parallel-item:only-child::after {width: 0;}#sk-container-id-1 div.sk-dashed-wrapped {border: 1px dashed gray;margin: 0 0.4em 0.5em 0.4em;box-sizing: border-box;padding-bottom: 0.4em;background-color: white;}#sk-container-id-1 div.sk-label label {font-family: monospace;font-weight: bold;display: inline-block;line-height: 1.2em;}#sk-container-id-1 div.sk-label-container {text-align: center;}#sk-container-id-1 div.sk-container {/* jupyter's `normalize.less` sets `[hidden] { display: none; }` but bootstrap.min.css set `[hidden] { display: none !important; }` so we also need the `!important` here to be able to override the default hidden behavior on the sphinx rendered scikit-learn.org. See: https://github.com/scikit-learn/scikit-learn/issues/21755 */display: inline-block !important;position: relative;}#sk-container-id-1 div.sk-text-repr-fallback {display: none;}</style><div id=\"sk-container-id-1\" class=\"sk-top-container\"><div class=\"sk-text-repr-fallback\"><pre>TPOTClassifier(config_dict=&#x27;TPOT light&#x27;, generations=2, verbosity=2)</pre><b>In a Jupyter environment, please rerun this cell to show the HTML representation or trust the notebook. <br />On GitHub, the HTML representation is unable to render, please try loading this page with nbviewer.org.</b></div><div class=\"sk-container\" hidden><div class=\"sk-item\"><div class=\"sk-estimator sk-toggleable\"><input class=\"sk-toggleable__control sk-hidden--visually\" id=\"sk-estimator-id-1\" type=\"checkbox\" checked><label for=\"sk-estimator-id-1\" class=\"sk-toggleable__label sk-toggleable__label-arrow\">TPOTClassifier</label><div class=\"sk-toggleable__content\"><pre>TPOTClassifier(config_dict=&#x27;TPOT light&#x27;, generations=2, verbosity=2)</pre></div></div></div></div></div>"
      ],
      "text/plain": [
       "TPOTClassifier(config_dict='TPOT light', generations=2, verbosity=2)"
      ]
     },
     "execution_count": 22,
     "metadata": {},
     "output_type": "execute_result"
    }
   ],
   "source": [
    "from tpot import TPOTClassifier\n",
    "fixed_model = {\n",
    "    'sklearn.ensemble.RandomForestClassifier': {\n",
    "    }\n",
    "}\n",
    "#model1=TPOTClassifier(verbosity=2,n_jobs=1,generations=2,config_dict='TPOT light')\n",
    "model1=TPOTClassifier(verbosity=2,n_jobs=1,generations=2,config_dict='TPOT light')\n",
    "X_train1, X_test1, y_train1, y_test1 = train_test_split(X,y,test_size=0.2,stratify=y)\n",
    "model1.fit(X_train1,y_train1)"
   ]
  },
  {
   "cell_type": "code",
   "execution_count": 29,
   "metadata": {},
   "outputs": [
    {
     "data": {
      "text/plain": [
       "0.9121951219512195"
      ]
     },
     "execution_count": 29,
     "metadata": {},
     "output_type": "execute_result"
    }
   ],
   "source": [
    "\n",
    "from sklearn.tree import DecisionTreeClassifier\n",
    "from sklearn.tree import DecisionTreeRegressor\n",
    "X_train,X_test,y_train,y_test=train_test_split(X,y,test_size=0.2,stratify=y)\n",
    "#model4=DecisionTreeClassifier( criterion='gini', max_depth=8, min_samples_leaf=15, min_samples_split=13)\n",
    "model4=DecisionTreeClassifier(criterion='entropy', max_depth=7, min_samples_leaf=3, min_samples_split=5)\n",
    "#model4.fit(X,y)\n",
    "model4.fit(X_train,y_train)\n",
    "model4.score(X_test,y_test)\n",
    "#test_data = pd.read_csv('newtestdata_neg3.csv',header=None)\n",
    "#fest_data=pd.read_csv('newtestdata_pos3.csv',header=None)\n",
    "#predictions = model4.predict(test_data)\n",
    "#model4.score(X_test,y_test)"
   ]
  },
  {
   "cell_type": "code",
   "execution_count": 35,
   "metadata": {},
   "outputs": [
    {
     "data": {
      "text/plain": [
       "'#include <string.h>\\nvoid score(double * input, double * output) {\\n    double var0[2];\\n    if (input[93] <= -0.5979099869728088) {\\n        if (input[12] <= -0.6660099923610687) {\\n            if (input[26] <= 0.0189800001680851) {\\n                memcpy(var0, (double[]){0.0, 1.0}, 2 * sizeof(double));\\n            } else {\\n                memcpy(var0, (double[]){0.3333333333333333, 0.6666666666666666}, 2 * sizeof(double));\\n            }\\n        } else {\\n            if (input[161] <= -0.05234000086784363) {\\n                if (input[270] <= 0.4892899990081787) {\\n                    if (input[101] <= 0.16079000383615494) {\\n                        memcpy(var0, (double[]){1.0, 0.0}, 2 * sizeof(double));\\n                    } else {\\n                        memcpy(var0, (double[]){0.4, 0.6}, 2 * sizeof(double));\\n                    }\\n                } else {\\n                    if (input[198] <= 3.695340096950531) {\\n                        memcpy(var0, (double[]){0.3333333333333333, 0.6666666666666666}, 2 * sizeof(double));\\n                    } else {\\n                        memcpy(var0, (double[]){0.0, 1.0}, 2 * sizeof(double));\\n                    }\\n                }\\n            } else {\\n                if (input[98] <= -0.02171000000089407) {\\n                    if (input[153] <= 0.47082000970840454) {\\n                        memcpy(var0, (double[]){0.0, 1.0}, 2 * sizeof(double));\\n                    } else {\\n                        if (input[282] <= 0.16729000210762024) {\\n                            memcpy(var0, (double[]){0.6, 0.4}, 2 * sizeof(double));\\n                        } else {\\n                            memcpy(var0, (double[]){0.0, 1.0}, 2 * sizeof(double));\\n                        }\\n                    }\\n                } else {\\n                    if (input[8] <= -0.038690000772476196) {\\n                        memcpy(var0, (double[]){0.0, 1.0}, 2 * sizeof(double));\\n                    } else {\\n                        memcpy(var0, (double[]){1.0, 0.0}, 2 * sizeof(double));\\n                    }\\n                }\\n            }\\n        }\\n    } else {\\n        if (input[272] <= -0.05024999938905239) {\\n            if (input[363] <= 0.39229001104831696) {\\n                memcpy(var0, (double[]){1.0, 0.0}, 2 * sizeof(double));\\n            } else {\\n                if (input[140] <= -0.04725000075995922) {\\n                    memcpy(var0, (double[]){1.0, 0.0}, 2 * sizeof(double));\\n                } else {\\n                    if (input[19] <= -0.2413799986243248) {\\n                        memcpy(var0, (double[]){0.0, 1.0}, 2 * sizeof(double));\\n                    } else {\\n                        memcpy(var0, (double[]){1.0, 0.0}, 2 * sizeof(double));\\n                    }\\n                }\\n            }\\n        } else {\\n            if (input[90] <= 0.38352999091148376) {\\n                if (input[198] <= -0.6310099959373474) {\\n                    if (input[262] <= -0.322380006313324) {\\n                        if (input[125] <= -0.026209999807178974) {\\n                            memcpy(var0, (double[]){0.4, 0.6}, 2 * sizeof(double));\\n                        } else {\\n                            memcpy(var0, (double[]){1.0, 0.0}, 2 * sizeof(double));\\n                        }\\n                    } else {\\n                        if (input[265] <= 0.0867800023406744) {\\n                            memcpy(var0, (double[]){0.0, 1.0}, 2 * sizeof(double));\\n                        } else {\\n                            if (input[261] <= -0.19200999289751053) {\\n                                memcpy(var0, (double[]){0.16666666666666666, 0.8333333333333334}, 2 * sizeof(double));\\n                            } else {\\n                                memcpy(var0, (double[]){1.0, 0.0}, 2 * sizeof(double));\\n                            }\\n                        }\\n                    }\\n                } else {\\n                    if (input[90] <= -0.1990099996328354) {\\n                        if (input[355] <= -0.3948799967765808) {\\n                            memcpy(var0, (double[]){1.0, 0.0}, 2 * sizeof(double));\\n                        } else {\\n                            if (input[346] <= 0.09627999924123287) {\\n                                memcpy(var0, (double[]){0.0, 1.0}, 2 * sizeof(double));\\n                            } else {\\n                                memcpy(var0, (double[]){0.9090909090909091, 0.09090909090909091}, 2 * sizeof(double));\\n                            }\\n                        }\\n                    } else {\\n                        if (input[135] <= 0.3538200110197067) {\\n                            if (input[89] <= -0.0003499999875202775) {\\n                                memcpy(var0, (double[]){1.0, 0.0}, 2 * sizeof(double));\\n                            } else {\\n                                memcpy(var0, (double[]){0.6666666666666666, 0.3333333333333333}, 2 * sizeof(double));\\n                            }\\n                        } else {\\n                            if (input[250] <= -0.06385999917984009) {\\n                                memcpy(var0, (double[]){1.0, 0.0}, 2 * sizeof(double));\\n                            } else {\\n                                memcpy(var0, (double[]){0.3, 0.7}, 2 * sizeof(double));\\n                            }\\n                        }\\n                    }\\n                }\\n            } else {\\n                if (input[12] <= -0.3204699903726578) {\\n                    if (input[146] <= -0.02171000000089407) {\\n                        memcpy(var0, (double[]){0.0, 1.0}, 2 * sizeof(double));\\n                    } else {\\n                        if (input[334] <= -0.21250999718904495) {\\n                            memcpy(var0, (double[]){1.0, 0.0}, 2 * sizeof(double));\\n                        } else {\\n                            memcpy(var0, (double[]){0.6666666666666666, 0.3333333333333333}, 2 * sizeof(double));\\n                        }\\n                    }\\n                } else {\\n                    if (input[301] <= 0.2469800040125847) {\\n                        memcpy(var0, (double[]){0.0, 1.0}, 2 * sizeof(double));\\n                    } else {\\n                        if (input[88] <= -0.11822999641299248) {\\n                            memcpy(var0, (double[]){0.0, 1.0}, 2 * sizeof(double));\\n                        } else {\\n                            memcpy(var0, (double[]){1.0, 0.0}, 2 * sizeof(double));\\n                        }\\n                    }\\n                }\\n            }\\n        }\\n    }\\n    memcpy(output, var0, 2 * sizeof(double));\\n}\\n'"
      ]
     },
     "execution_count": 35,
     "metadata": {},
     "output_type": "execute_result"
    }
   ],
   "source": [
    "model_to_c = m2c.export_to_c(model4)  \n",
    "model_to_c"
   ]
  },
  {
   "cell_type": "code",
   "execution_count": 46,
   "metadata": {},
   "outputs": [
    {
     "data": {
      "text/plain": [
       "0.9611650485436893"
      ]
     },
     "execution_count": 46,
     "metadata": {},
     "output_type": "execute_result"
    }
   ],
   "source": [
    "\n",
    "from sklearn.ensemble import GradientBoostingClassifier\n",
    "from sklearn.linear_model import LogisticRegression\n",
    "from sklearn.linear_model import LinearRegression\n",
    "from sklearn.ensemble import RandomForestClassifier\n",
    "from sklearn.svm import SVR\n",
    "X_train,X_test,y_train,y_test=train_test_split(X,y,test_size=0.1,stratify=y)\n",
    "model=RandomForestClassifier(n_estimators=3)\n",
    "model.fit(X,y)\n",
    "#model.fit(X_train,y_train)\n",
    "#model.score(X_test,y_test)\n"
   ]
  },
  {
   "cell_type": "code",
   "execution_count": null,
   "metadata": {},
   "outputs": [
    {
     "data": {
      "text/plain": [
       "1.0"
      ]
     },
     "execution_count": 109,
     "metadata": {},
     "output_type": "execute_result"
    }
   ],
   "source": [
    "#test_data = pd.read_csv('noise.csv',header=None)\n",
    "#test_data=test_data.reshape(101,750)\n",
    "fest_data=np.array(pd.read_csv('pos_101.csv',header=None))\n",
    "predictions = model.predict(X_test)\n",
    "#model.score(X_test,y_test)\n",
    "model.score(X_test,y_test)\n"
   ]
  },
  {
   "cell_type": "code",
   "execution_count": null,
   "metadata": {},
   "outputs": [
    {
     "data": {
      "text/plain": [
       "'#include <string.h>\\nvoid add_vectors(double *v1, double *v2, int size, double *result) {\\n    for(int i = 0; i < size; ++i)\\n        result[i] = v1[i] + v2[i];\\n}\\nvoid mul_vector_number(double *v1, double num, int size, double *result) {\\n    for(int i = 0; i < size; ++i)\\n        result[i] = v1[i] * num;\\n}\\nvoid score(double * input, double * output) {\\n    double var0[2];\\n    double var1[2];\\n    double var2[2];\\n    double var3[2];\\n    if (input[5] <= -0.3050000071525574) {\\n        if (input[381] <= -2.524999976158142) {\\n            if (input[121] <= -0.5700000077486038) {\\n                memcpy(var3, (double[]){0.0, 1.0}, 2 * sizeof(double));\\n            } else {\\n                memcpy(var3, (double[]){1.0, 0.0}, 2 * sizeof(double));\\n            }\\n        } else {\\n            if (input[238] <= 18.63499927520752) {\\n                if (input[333] <= 8.050000190734863) {\\n                    if (input[373] <= -15.78499984741211) {\\n                        memcpy(var3, (double[]){1.0, 0.0}, 2 * sizeof(double));\\n                    } else {\\n                        if (input[478] <= 16.34500026702881) {\\n                            memcpy(var3, (double[]){0.0, 1.0}, 2 * sizeof(double));\\n                        } else {\\n                            memcpy(var3, (double[]){1.0, 0.0}, 2 * sizeof(double));\\n                        }\\n                    }\\n                } else {\\n                    memcpy(var3, (double[]){1.0, 0.0}, 2 * sizeof(double));\\n                }\\n            } else {\\n                if (input[279] <= -0.005000000819563866) {\\n                    memcpy(var3, (double[]){0.0, 1.0}, 2 * sizeof(double));\\n                } else {\\n                    memcpy(var3, (double[]){1.0, 0.0}, 2 * sizeof(double));\\n                }\\n            }\\n        }\\n    } else {\\n        if (input[147] <= -0.03499999921768904) {\\n            if (input[229] <= 0.6800000071525574) {\\n                memcpy(var3, (double[]){0.0, 1.0}, 2 * sizeof(double));\\n            } else {\\n                if (input[369] <= -0.044999999925494194) {\\n                    memcpy(var3, (double[]){1.0, 0.0}, 2 * sizeof(double));\\n                } else {\\n                    memcpy(var3, (double[]){0.0, 1.0}, 2 * sizeof(double));\\n                }\\n            }\\n        } else {\\n            if (input[89] <= 0.24499999731779099) {\\n                if (input[173] <= 0.44999998807907104) {\\n                    if (input[434] <= -7.7250001430511475) {\\n                        memcpy(var3, (double[]){0.0, 1.0}, 2 * sizeof(double));\\n                    } else {\\n                        if (input[229] <= 1.9749999642372131) {\\n                            if (input[441] <= -8.940000057220459) {\\n                                if (input[496] <= 1.6150000020861626) {\\n                                    memcpy(var3, (double[]){0.0, 1.0}, 2 * sizeof(double));\\n                                } else {\\n                                    memcpy(var3, (double[]){1.0, 0.0}, 2 * sizeof(double));\\n                                }\\n                            } else {\\n                                memcpy(var3, (double[]){1.0, 0.0}, 2 * sizeof(double));\\n                            }\\n                        } else {\\n                            if (input[17] <= -0.29499999433755875) {\\n                                memcpy(var3, (double[]){0.0, 1.0}, 2 * sizeof(double));\\n                            } else {\\n                                memcpy(var3, (double[]){1.0, 0.0}, 2 * sizeof(double));\\n                            }\\n                        }\\n                    }\\n                } else {\\n                    if (input[44] <= 0.009999999776482582) {\\n                        memcpy(var3, (double[]){0.0, 1.0}, 2 * sizeof(double));\\n                    } else {\\n                        if (input[273] <= -2.0699999928474426) {\\n                            memcpy(var3, (double[]){0.0, 1.0}, 2 * sizeof(double));\\n                        } else {\\n                            memcpy(var3, (double[]){1.0, 0.0}, 2 * sizeof(double));\\n                        }\\n                    }\\n                }\\n            } else {\\n                if (input[276] <= -4.790000081062317) {\\n                    if (input[151] <= 0.07500000018626451) {\\n                        memcpy(var3, (double[]){1.0, 0.0}, 2 * sizeof(double));\\n                    } else {\\n                        memcpy(var3, (double[]){0.0, 1.0}, 2 * sizeof(double));\\n                    }\\n                } else {\\n                    memcpy(var3, (double[]){0.0, 1.0}, 2 * sizeof(double));\\n                }\\n            }\\n        }\\n    }\\n    double var4[2];\\n    if (input[61] <= -0.5) {\\n        if (input[416] <= 16.28499984741211) {\\n            memcpy(var4, (double[]){0.0, 1.0}, 2 * sizeof(double));\\n        } else {\\n            if (input[67] <= 0.02500000037252903) {\\n                memcpy(var4, (double[]){0.0, 1.0}, 2 * sizeof(double));\\n            } else {\\n                memcpy(var4, (double[]){1.0, 0.0}, 2 * sizeof(double));\\n            }\\n        }\\n    } else {\\n        if (input[159] <= -0.03499999921768904) {\\n            if (input[456] <= 0.6150000095367432) {\\n                memcpy(var4, (double[]){0.0, 1.0}, 2 * sizeof(double));\\n            } else {\\n                if (input[198] <= 12.75499963760376) {\\n                    memcpy(var4, (double[]){0.0, 1.0}, 2 * sizeof(double));\\n                } else {\\n                    memcpy(var4, (double[]){1.0, 0.0}, 2 * sizeof(double));\\n                }\\n            }\\n        } else {\\n            if (input[85] <= 0.049999999813735485) {\\n                if (input[143] <= -0.014999999664723873) {\\n                    if (input[221] <= -0.3450000062584877) {\\n                        memcpy(var4, (double[]){0.0, 1.0}, 2 * sizeof(double));\\n                    } else {\\n                        if (input[333] <= -0.35999999940395355) {\\n                            memcpy(var4, (double[]){0.0, 1.0}, 2 * sizeof(double));\\n                        } else {\\n                            memcpy(var4, (double[]){1.0, 0.0}, 2 * sizeof(double));\\n                        }\\n                    }\\n                } else {\\n                    if (input[147] <= -0.029999999329447746) {\\n                        if (input[473] <= -0.14499999582767487) {\\n                            memcpy(var4, (double[]){1.0, 0.0}, 2 * sizeof(double));\\n                        } else {\\n                            memcpy(var4, (double[]){0.0, 1.0}, 2 * sizeof(double));\\n                        }\\n                    } else {\\n                        if (input[44] <= 1.8899999856948853) {\\n                            if (input[440] <= -2.3350000381469727) {\\n                                if (input[381] <= 1.305000051856041) {\\n                                    memcpy(var4, (double[]){1.0, 0.0}, 2 * sizeof(double));\\n                                } else {\\n                                    memcpy(var4, (double[]){0.0, 1.0}, 2 * sizeof(double));\\n                                }\\n                            } else {\\n                                if (input[285] <= -6.485000133514404) {\\n                                    if (input[265] <= 0.06499999761581421) {\\n                                        memcpy(var4, (double[]){0.0, 1.0}, 2 * sizeof(double));\\n                                    } else {\\n                                        memcpy(var4, (double[]){1.0, 0.0}, 2 * sizeof(double));\\n                                    }\\n                                } else {\\n                                    memcpy(var4, (double[]){1.0, 0.0}, 2 * sizeof(double));\\n                                }\\n                            }\\n                        } else {\\n                            if (input[249] <= -0.5650000022724271) {\\n                                memcpy(var4, (double[]){0.0, 1.0}, 2 * sizeof(double));\\n                            } else {\\n                                memcpy(var4, (double[]){1.0, 0.0}, 2 * sizeof(double));\\n                            }\\n                        }\\n                    }\\n                }\\n            } else {\\n                if (input[314] <= 12.894999980926514) {\\n                    memcpy(var4, (double[]){0.0, 1.0}, 2 * sizeof(double));\\n                } else {\\n                    memcpy(var4, (double[]){1.0, 0.0}, 2 * sizeof(double));\\n                }\\n            }\\n        }\\n    }\\n    add_vectors(var3, var4, 2, var2);\\n    double var5[2];\\n    if (input[57] <= -0.4650000035762787) {\\n        memcpy(var5, (double[]){0.0, 1.0}, 2 * sizeof(double));\\n    } else {\\n        if (input[125] <= 0.029999999329447746) {\\n            if (input[190] <= 5.375) {\\n                if (input[71] <= 0.004999999888241291) {\\n                    memcpy(var5, (double[]){0.0, 1.0}, 2 * sizeof(double));\\n                } else {\\n                    memcpy(var5, (double[]){1.0, 0.0}, 2 * sizeof(double));\\n                }\\n            } else {\\n                if (input[285] <= -0.39000000059604645) {\\n                    if (input[122] <= 9.944999694824219) {\\n                        if (input[404] <= 4.555000066757202) {\\n                            memcpy(var5, (double[]){0.0, 1.0}, 2 * sizeof(double));\\n                        } else {\\n                            memcpy(var5, (double[]){1.0, 0.0}, 2 * sizeof(double));\\n                        }\\n                    } else {\\n                        if (input[150] <= 10.714999675750732) {\\n                            memcpy(var5, (double[]){1.0, 0.0}, 2 * sizeof(double));\\n                        } else {\\n                            memcpy(var5, (double[]){0.0, 1.0}, 2 * sizeof(double));\\n                        }\\n                    }\\n                } else {\\n                    if (input[137] <= 0.014999999664723873) {\\n                        if (input[288] <= -12.130000114440918) {\\n                            memcpy(var5, (double[]){0.0, 1.0}, 2 * sizeof(double));\\n                        } else {\\n                            memcpy(var5, (double[]){1.0, 0.0}, 2 * sizeof(double));\\n                        }\\n                    } else {\\n                        memcpy(var5, (double[]){0.0, 1.0}, 2 * sizeof(double));\\n                    }\\n                }\\n            }\\n        } else {\\n            if (input[392] <= -0.8150000274181366) {\\n                memcpy(var5, (double[]){1.0, 0.0}, 2 * sizeof(double));\\n            } else {\\n                if (input[12] <= 1.699999988079071) {\\n                    if (input[435] <= -0.014999999664723873) {\\n                        memcpy(var5, (double[]){1.0, 0.0}, 2 * sizeof(double));\\n                    } else {\\n                        if (input[264] <= 4.875) {\\n                            memcpy(var5, (double[]){0.0, 1.0}, 2 * sizeof(double));\\n                        } else {\\n                            if (input[348] <= 0.5800000131130219) {\\n                                if (input[136] <= 0.8049999922513962) {\\n                                    memcpy(var5, (double[]){0.0, 1.0}, 2 * sizeof(double));\\n                                } else {\\n                                    memcpy(var5, (double[]){1.0, 0.0}, 2 * sizeof(double));\\n                                }\\n                            } else {\\n                                memcpy(var5, (double[]){0.0, 1.0}, 2 * sizeof(double));\\n                            }\\n                        }\\n                    }\\n                } else {\\n                    memcpy(var5, (double[]){1.0, 0.0}, 2 * sizeof(double));\\n                }\\n            }\\n        }\\n    }\\n    add_vectors(var2, var5, 2, var1);\\n    mul_vector_number(var1, 0.3333333333333333, 2, var0);\\n    memcpy(output, var0, 2 * sizeof(double));\\n}\\n'"
      ]
     },
     "execution_count": 265,
     "metadata": {},
     "output_type": "execute_result"
    }
   ],
   "source": [
    "model_to_c1 = m2c.export_to_c(model)  \n",
    "model_to_c1"
   ]
  },
  {
   "cell_type": "code",
   "execution_count": null,
   "metadata": {},
   "outputs": [
    {
     "data": {
      "image/png": "[encoded data removed]",
      "text/plain": [
       "<Figure size 640x480 with 2 Axes>"
      ]
     },
     "metadata": {},
     "output_type": "display_data"
    }
   ],
   "source": [
    "# Calculate confusion matrix\n",
    "from sklearn.metrics import confusion_matrix\n",
    "import seaborn as sns\n",
    "y_pred=model.predict(fest_data)\n",
    "y_test=np.zeros((22,))\n",
    "conf_matrix = confusion_matrix(y_test, y_pred)\n",
    "# Plot the confusion matrix using Seaborn\n",
    "sns.heatmap(conf_matrix, annot=True, fmt='d', cmap='Blues', xticklabels=['Predicted 0', 'Predicted 1'], yticklabels=['Actual 0', 'Actual 1'])\n",
    "plt.xlabel('Predicted')\n",
    "plt.ylabel('Actual')\n",
    "plt.title('Confusion Matrix')\n",
    "plt.show()"
   ]
  }
 ],
 "metadata": {
  "kernelspec": {
   "display_name": "Python 3",
   "language": "python",
   "name": "python3"
  },
  "language_info": {
   "codemirror_mode": {
    "name": "ipython",
    "version": 3
   },
   "file_extension": ".py",
   "mimetype": "text/x-python",
   "name": "python",
   "nbconvert_exporter": "python",
   "pygments_lexer": "ipython3",
   "version": "3.11.4"
  }
 },
 "nbformat": 4,
 "nbformat_minor": 2
}
